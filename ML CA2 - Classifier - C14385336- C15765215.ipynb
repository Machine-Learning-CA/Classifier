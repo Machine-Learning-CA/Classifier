{
 "cells": [
  {
   "cell_type": "code",
   "execution_count": 2,
   "metadata": {},
   "outputs": [],
   "source": [
    "# Author: Ciarán O'Brien & Chloe Doyle\n",
    "# Lecture: Svetlana Hensman\n",
    "# Submitted: 07/12/18\n",
    "# This file is in response to the second assignment as set out per the classification goal\n"
   ]
  },
  {
   "cell_type": "code",
   "execution_count": 43,
   "metadata": {},
   "outputs": [],
   "source": [
    "# Boiler plate imports\n",
    "import matplotlib.pyplot as plt\n",
    "import seaborn as sn\n",
    "import numpy as np\n",
    "import pandas as pd\n",
    "import re\n",
    "import time\n",
    "import cardinality\n",
    "import statistics\n",
    "from math import floor\n",
    "from statistics import mean, median\n",
    "from collections import Counter\n",
    "from sympy import pretty_print as pp,latex\n",
    "import seaborn as sn\n",
    "from sklearn import preprocessing\n",
    "from sklearn.preprocessing import StandardScaler, LabelEncoder\n",
    "from sklearn.model_selection import train_test_split\n",
    "\n",
    "\n",
    "from sklearn.linear_model import LogisticRegression\n",
    "from sklearn.svm import SVC\n",
    "from sklearn.neighbors import KNeighborsClassifier\n",
    "from sklearn import tree\n",
    "from sklearn.neural_network import MLPClassifier\n",
    "from sklearn.neighbors import KNeighborsClassifier\n",
    "from sklearn.ensemble import GradientBoostingClassifier\n",
    "from sklearn.gaussian_process.kernels import RBF\n",
    "from sklearn.ensemble import RandomForestClassifier\n",
    "from sklearn.naive_bayes import GaussianNB"
   ]
  },
  {
   "cell_type": "code",
   "execution_count": 4,
   "metadata": {},
   "outputs": [
    {
     "name": "stderr",
     "output_type": "stream",
     "text": [
      "c:\\users\\ciaran\\appdata\\local\\programs\\python\\python35\\lib\\site-packages\\ipykernel_launcher.py:1: ParserWarning: Falling back to the 'python' engine because the 'c' engine does not support regex separators (separators > 1 char and different from '\\s+' are interpreted as regex); you can avoid this warning by specifying engine='python'.\n",
      "  \"\"\"Entry point for launching an IPython kernel.\n"
     ]
    }
   ],
   "source": [
    "data = pd.read_csv(\"data/trainingset.txt\",sep='\\,',header=None, encoding='utf-8')"
   ]
  },
  {
   "cell_type": "code",
   "execution_count": 11,
   "metadata": {},
   "outputs": [
    {
     "data": {
      "text/html": [
       "<div>\n",
       "<style scoped>\n",
       "    .dataframe tbody tr th:only-of-type {\n",
       "        vertical-align: middle;\n",
       "    }\n",
       "\n",
       "    .dataframe tbody tr th {\n",
       "        vertical-align: top;\n",
       "    }\n",
       "\n",
       "    .dataframe thead th {\n",
       "        text-align: right;\n",
       "    }\n",
       "</style>\n",
       "<table border=\"1\" class=\"dataframe\">\n",
       "  <thead>\n",
       "    <tr style=\"text-align: right;\">\n",
       "      <th></th>\n",
       "      <th>id</th>\n",
       "      <th>age</th>\n",
       "      <th>job</th>\n",
       "      <th>marital</th>\n",
       "      <th>education</th>\n",
       "      <th>default</th>\n",
       "      <th>balance</th>\n",
       "      <th>housing</th>\n",
       "      <th>loan</th>\n",
       "      <th>contact</th>\n",
       "      <th>day</th>\n",
       "      <th>month</th>\n",
       "      <th>duration</th>\n",
       "      <th>campaign</th>\n",
       "      <th>pdays</th>\n",
       "      <th>previous</th>\n",
       "      <th>poutcome</th>\n",
       "      <th>y</th>\n",
       "    </tr>\n",
       "  </thead>\n",
       "  <tbody>\n",
       "    <tr>\n",
       "      <th>0</th>\n",
       "      <td>TR1</td>\n",
       "      <td>44</td>\n",
       "      <td>\"JobCat9\"</td>\n",
       "      <td>\"single\"</td>\n",
       "      <td>\"secondary\"</td>\n",
       "      <td>\"no\"</td>\n",
       "      <td>29</td>\n",
       "      <td>\"yes\"</td>\n",
       "      <td>\"no\"</td>\n",
       "      <td>\"unknown\"</td>\n",
       "      <td>5</td>\n",
       "      <td>\"may\"</td>\n",
       "      <td>0</td>\n",
       "      <td>1</td>\n",
       "      <td>-1</td>\n",
       "      <td>0</td>\n",
       "      <td>\"unknown\"</td>\n",
       "      <td>\"TypeA\"</td>\n",
       "    </tr>\n",
       "    <tr>\n",
       "      <th>1</th>\n",
       "      <td>TR2</td>\n",
       "      <td>31</td>\n",
       "      <td>\"JobCat4\"</td>\n",
       "      <td>\"married\"</td>\n",
       "      <td>\"secondary\"</td>\n",
       "      <td>\"no\"</td>\n",
       "      <td>2</td>\n",
       "      <td>\"yes\"</td>\n",
       "      <td>\"yes\"</td>\n",
       "      <td>\"unknown\"</td>\n",
       "      <td>5</td>\n",
       "      <td>\"may\"</td>\n",
       "      <td>0</td>\n",
       "      <td>1</td>\n",
       "      <td>-1</td>\n",
       "      <td>0</td>\n",
       "      <td>\"unknown\"</td>\n",
       "      <td>\"TypeA\"</td>\n",
       "    </tr>\n",
       "    <tr>\n",
       "      <th>2</th>\n",
       "      <td>TR3</td>\n",
       "      <td>42</td>\n",
       "      <td>\"JobCat4\"</td>\n",
       "      <td>\"divorced\"</td>\n",
       "      <td>\"tertiary\"</td>\n",
       "      <td>\"yes\"</td>\n",
       "      <td>2</td>\n",
       "      <td>\"yes\"</td>\n",
       "      <td>\"no\"</td>\n",
       "      <td>\"unknown\"</td>\n",
       "      <td>5</td>\n",
       "      <td>\"may\"</td>\n",
       "      <td>0</td>\n",
       "      <td>1</td>\n",
       "      <td>-1</td>\n",
       "      <td>0</td>\n",
       "      <td>\"unknown\"</td>\n",
       "      <td>\"TypeA\"</td>\n",
       "    </tr>\n",
       "    <tr>\n",
       "      <th>3</th>\n",
       "      <td>TR4</td>\n",
       "      <td>58</td>\n",
       "      <td>\"JobCat2\"</td>\n",
       "      <td>\"married\"</td>\n",
       "      <td>\"primary\"</td>\n",
       "      <td>\"no\"</td>\n",
       "      <td>121</td>\n",
       "      <td>\"yes\"</td>\n",
       "      <td>\"no\"</td>\n",
       "      <td>\"unknown\"</td>\n",
       "      <td>5</td>\n",
       "      <td>\"may\"</td>\n",
       "      <td>0</td>\n",
       "      <td>1</td>\n",
       "      <td>-1</td>\n",
       "      <td>0</td>\n",
       "      <td>\"unknown\"</td>\n",
       "      <td>\"TypeA\"</td>\n",
       "    </tr>\n",
       "    <tr>\n",
       "      <th>4</th>\n",
       "      <td>TR5</td>\n",
       "      <td>43</td>\n",
       "      <td>\"JobCat9\"</td>\n",
       "      <td>\"single\"</td>\n",
       "      <td>\"secondary\"</td>\n",
       "      <td>\"no\"</td>\n",
       "      <td>593</td>\n",
       "      <td>\"yes\"</td>\n",
       "      <td>\"no\"</td>\n",
       "      <td>\"unknown\"</td>\n",
       "      <td>5</td>\n",
       "      <td>\"may\"</td>\n",
       "      <td>0</td>\n",
       "      <td>1</td>\n",
       "      <td>-1</td>\n",
       "      <td>0</td>\n",
       "      <td>\"unknown\"</td>\n",
       "      <td>\"TypeA\"</td>\n",
       "    </tr>\n",
       "  </tbody>\n",
       "</table>\n",
       "</div>"
      ],
      "text/plain": [
       "    id  age        job     marital    education default  balance housing  \\\n",
       "0  TR1   44  \"JobCat9\"    \"single\"  \"secondary\"    \"no\"       29   \"yes\"   \n",
       "1  TR2   31  \"JobCat4\"   \"married\"  \"secondary\"    \"no\"        2   \"yes\"   \n",
       "2  TR3   42  \"JobCat4\"  \"divorced\"   \"tertiary\"   \"yes\"        2   \"yes\"   \n",
       "3  TR4   58  \"JobCat2\"   \"married\"    \"primary\"    \"no\"      121   \"yes\"   \n",
       "4  TR5   43  \"JobCat9\"    \"single\"  \"secondary\"    \"no\"      593   \"yes\"   \n",
       "\n",
       "    loan    contact  day  month  duration  campaign  pdays  previous  \\\n",
       "0   \"no\"  \"unknown\"    5  \"may\"         0         1     -1         0   \n",
       "1  \"yes\"  \"unknown\"    5  \"may\"         0         1     -1         0   \n",
       "2   \"no\"  \"unknown\"    5  \"may\"         0         1     -1         0   \n",
       "3   \"no\"  \"unknown\"    5  \"may\"         0         1     -1         0   \n",
       "4   \"no\"  \"unknown\"    5  \"may\"         0         1     -1         0   \n",
       "\n",
       "    poutcome        y  \n",
       "0  \"unknown\"  \"TypeA\"  \n",
       "1  \"unknown\"  \"TypeA\"  \n",
       "2  \"unknown\"  \"TypeA\"  \n",
       "3  \"unknown\"  \"TypeA\"  \n",
       "4  \"unknown\"  \"TypeA\"  "
      ]
     },
     "execution_count": 11,
     "metadata": {},
     "output_type": "execute_result"
    }
   ],
   "source": [
    "data.head()"
   ]
  },
  {
   "cell_type": "code",
   "execution_count": 20,
   "metadata": {},
   "outputs": [],
   "source": [
    "continuous_data = data.select_dtypes(include = ['int64','float64'])\n",
    "categorical_data = data.select_dtypes(include = ['object'])"
   ]
  },
  {
   "cell_type": "code",
   "execution_count": 26,
   "metadata": {},
   "outputs": [
    {
     "name": "stderr",
     "output_type": "stream",
     "text": [
      "c:\\users\\ciaran\\appdata\\local\\programs\\python\\python35\\lib\\site-packages\\ipykernel_launcher.py:1: SettingWithCopyWarning: \n",
      "A value is trying to be set on a copy of a slice from a DataFrame\n",
      "\n",
      "See the caveats in the documentation: http://pandas.pydata.org/pandas-docs/stable/indexing.html#indexing-view-versus-copy\n",
      "  \"\"\"Entry point for launching an IPython kernel.\n"
     ]
    },
    {
     "data": {
      "text/html": [
       "<div>\n",
       "<style scoped>\n",
       "    .dataframe tbody tr th:only-of-type {\n",
       "        vertical-align: middle;\n",
       "    }\n",
       "\n",
       "    .dataframe tbody tr th {\n",
       "        vertical-align: top;\n",
       "    }\n",
       "\n",
       "    .dataframe thead th {\n",
       "        text-align: right;\n",
       "    }\n",
       "</style>\n",
       "<table border=\"1\" class=\"dataframe\">\n",
       "  <thead>\n",
       "    <tr style=\"text-align: right;\">\n",
       "      <th></th>\n",
       "      <th>job</th>\n",
       "      <th>marital</th>\n",
       "      <th>education</th>\n",
       "      <th>default</th>\n",
       "      <th>housing</th>\n",
       "      <th>loan</th>\n",
       "      <th>contact</th>\n",
       "      <th>month</th>\n",
       "      <th>poutcome</th>\n",
       "      <th>y</th>\n",
       "    </tr>\n",
       "  </thead>\n",
       "  <tbody>\n",
       "    <tr>\n",
       "      <th>0</th>\n",
       "      <td>\"JobCat9\"</td>\n",
       "      <td>\"single\"</td>\n",
       "      <td>\"secondary\"</td>\n",
       "      <td>\"no\"</td>\n",
       "      <td>\"yes\"</td>\n",
       "      <td>\"no\"</td>\n",
       "      <td>\"unknown\"</td>\n",
       "      <td>\"may\"</td>\n",
       "      <td>\"unknown\"</td>\n",
       "      <td>\"TypeA\"</td>\n",
       "    </tr>\n",
       "    <tr>\n",
       "      <th>1</th>\n",
       "      <td>\"JobCat4\"</td>\n",
       "      <td>\"married\"</td>\n",
       "      <td>\"secondary\"</td>\n",
       "      <td>\"no\"</td>\n",
       "      <td>\"yes\"</td>\n",
       "      <td>\"yes\"</td>\n",
       "      <td>\"unknown\"</td>\n",
       "      <td>\"may\"</td>\n",
       "      <td>\"unknown\"</td>\n",
       "      <td>\"TypeA\"</td>\n",
       "    </tr>\n",
       "    <tr>\n",
       "      <th>2</th>\n",
       "      <td>\"JobCat4\"</td>\n",
       "      <td>\"divorced\"</td>\n",
       "      <td>\"tertiary\"</td>\n",
       "      <td>\"yes\"</td>\n",
       "      <td>\"yes\"</td>\n",
       "      <td>\"no\"</td>\n",
       "      <td>\"unknown\"</td>\n",
       "      <td>\"may\"</td>\n",
       "      <td>\"unknown\"</td>\n",
       "      <td>\"TypeA\"</td>\n",
       "    </tr>\n",
       "    <tr>\n",
       "      <th>3</th>\n",
       "      <td>\"JobCat2\"</td>\n",
       "      <td>\"married\"</td>\n",
       "      <td>\"primary\"</td>\n",
       "      <td>\"no\"</td>\n",
       "      <td>\"yes\"</td>\n",
       "      <td>\"no\"</td>\n",
       "      <td>\"unknown\"</td>\n",
       "      <td>\"may\"</td>\n",
       "      <td>\"unknown\"</td>\n",
       "      <td>\"TypeA\"</td>\n",
       "    </tr>\n",
       "    <tr>\n",
       "      <th>4</th>\n",
       "      <td>\"JobCat9\"</td>\n",
       "      <td>\"single\"</td>\n",
       "      <td>\"secondary\"</td>\n",
       "      <td>\"no\"</td>\n",
       "      <td>\"yes\"</td>\n",
       "      <td>\"no\"</td>\n",
       "      <td>\"unknown\"</td>\n",
       "      <td>\"may\"</td>\n",
       "      <td>\"unknown\"</td>\n",
       "      <td>\"TypeA\"</td>\n",
       "    </tr>\n",
       "  </tbody>\n",
       "</table>\n",
       "</div>"
      ],
      "text/plain": [
       "         job     marital    education default housing   loan    contact  \\\n",
       "0  \"JobCat9\"    \"single\"  \"secondary\"    \"no\"   \"yes\"   \"no\"  \"unknown\"   \n",
       "1  \"JobCat4\"   \"married\"  \"secondary\"    \"no\"   \"yes\"  \"yes\"  \"unknown\"   \n",
       "2  \"JobCat4\"  \"divorced\"   \"tertiary\"   \"yes\"   \"yes\"   \"no\"  \"unknown\"   \n",
       "3  \"JobCat2\"   \"married\"    \"primary\"    \"no\"   \"yes\"   \"no\"  \"unknown\"   \n",
       "4  \"JobCat9\"    \"single\"  \"secondary\"    \"no\"   \"yes\"   \"no\"  \"unknown\"   \n",
       "\n",
       "   month   poutcome        y  \n",
       "0  \"may\"  \"unknown\"  \"TypeA\"  \n",
       "1  \"may\"  \"unknown\"  \"TypeA\"  \n",
       "2  \"may\"  \"unknown\"  \"TypeA\"  \n",
       "3  \"may\"  \"unknown\"  \"TypeA\"  \n",
       "4  \"may\"  \"unknown\"  \"TypeA\"  "
      ]
     },
     "execution_count": 26,
     "metadata": {},
     "output_type": "execute_result"
    }
   ],
   "source": [
    "categorical_data.drop('id', axis=1, inplace=True)\n",
    "categorical_data.head()"
   ]
  },
  {
   "cell_type": "markdown",
   "metadata": {},
   "source": [
    "# Data exploration\n",
    "\n",
    "Viewing all the unique values from each coloumn\n",
    "\n",
    "\n",
    "## Results \n",
    "\n",
    "Column 12 only contain 1 unique value, it's no use to us.\n",
    "Columns 5,7,8 are only binary "
   ]
  },
  {
   "cell_type": "code",
   "execution_count": 6,
   "metadata": {
    "collapsed": true
   },
   "outputs": [
    {
     "name": "stdout",
     "output_type": "stream",
     "text": [
      "0 ['TR1' 'TR2' 'TR3' ... 'TR24316' 'TR24317' 'TR24318']\n",
      "1 [44 31 42 58 43 57 51 45 40 37 52 46 34 49 50 60 54 30 53 33 55 47 59 41\n",
      " 27 56 26 48 24 32 29 36 28 35 22 21 23 25 61 20 19 18 66 83 70 68 65 64\n",
      " 69 62 75 71 67 76 85 63 90 73 78 80 94 72 17 74 86 79 95 82 81 77 16 84\n",
      " 87 93 88]\n",
      "2 ['\"JobCat9\"' '\"JobCat4\"' '\"JobCat2\"' '\"JobCat7\"' '\"JobCat11\"' '\"JobCat6\"'\n",
      " '\"JobCat3\"' '\"JobCat8\"' '\"JobCat10\"' '\"JobCat1\"' '\"JobCat5\"' '\"unknown\"']\n",
      "3 ['\"single\"' '\"married\"' '\"divorced\"']\n",
      "4 ['\"secondary\"' '\"tertiary\"' '\"primary\"' '\"unknown\"']\n",
      "5 ['\"no\"' '\"yes\"']\n",
      "6 [   29     2   121 ... 16353  5083  4655]\n",
      "7 ['\"yes\"' '\"no\"']\n",
      "8 ['\"no\"' '\"yes\"']\n",
      "9 ['\"unknown\"' '\"cellular\"' '\"telephone\"']\n",
      "10 [ 5  6  7  8  9 12 13 14 15 16 19 20 21 23 26 27 28 29 30  2  3  4 11 17\n",
      " 18 24 25  1 10 22 31]\n",
      "11 ['\"may\"' '\"jun\"' '\"jul\"' '\"aug\"' '\"oct\"' '\"nov\"' '\"dec\"' '\"jan\"' '\"feb\"'\n",
      " '\"mar\"' '\"apr\"' '\"sep\"']\n",
      "12 [0]\n",
      "13 [ 1  2  3  5  4  6  8  7  9 10 13 11 12 14 32 18 22 15 17 25 21 19 63 26\n",
      " 28 16 50 38 23 24 37 27 29 30 41 20 31 33 35 34 39 36]\n",
      "14 [ -1 151  86 147 176 174 170 195 188 196 172 118 119 171 131 123 159 186\n",
      " 111 115 116 173 166 164 110  96 103 150 175 104 193 181 185 154 138 145\n",
      " 132 126 180 129 101 167 117 109  97 130 168 125 105 102  26 179 182  28\n",
      " 183 165 127 112 124 187 190 113 162 152 134 169 189   8 120 144 191 184\n",
      " 177  99 133  93  92 155  91 100 156 106 198 128 153 160 107  90 197 136\n",
      " 139 157 122 178 135  30  98 163 121  10 141 158 192  31  94 199 137 108\n",
      " 268 247 253 226 244 245 231 258 223 265 246 250 240 204 205 254 266 259\n",
      " 241 261 239 251 225 161 237 248 255 262 227 234 224 206 238 260   2 270\n",
      " 232 252 228 235 256   5 273 242 214 249 208 272 271 207 202 269 201 229\n",
      " 210 264 216 217 230  76 200 263  73 203 221 267 222  77  82   6 209 257\n",
      " 274 243   7 212 215 233 213 276   9 275 211   1 279  12 280  88 194 277\n",
      " 236  84  85 219  41 294 329 307 331  64 314 323 332 333 326 335 313 312\n",
      " 325 327 328 140 330 316 310 289  57 295 336 339 301 315 337 300 143 334\n",
      " 340 319 146  17  74 322 148 299 344 320 149 321 342 324 318 317 346 345\n",
      " 282 281 343 305 338  14 303  15 347 304 302 341 348 306 349 285 287 350\n",
      "  25 278  81  87  79  70  13  83  37  80  63  22 355  19   4  89  35 351\n",
      " 362 365 309 358 366 363 356 364 288 357 293 360 297 359 367 353 352 296\n",
      " 361 368 290 283 298 308  66 371 370 284 369 286 292 354  50 373 374 372\n",
      " 291 311  59  95  40  29  43 114  20  69  60  56  55  78 391  34  27  44\n",
      "  67  32 393  65 395 388 399  49 389 412 385 434 394 440  68 461 462 422\n",
      " 430 442 403 457 459 454 379 428 392 410 475 477 478  54 474 463 479  45\n",
      "  46 142 495  58  48 518  75 378 218  33 544 435 433 436 558 469 616 561\n",
      " 553 555 585 480 667 626 449 633 426  61  53 460  71 670 551 404 651 686\n",
      " 384 425 376 504 578 674 386 450 745 514 417 424 776 381 396 439 415 456\n",
      " 458 481 791 531 792 413 535 784 455 491 431 446 472 437 782 414 828 524\n",
      " 562 761 492 775 493 760 432 655 427 749 779 842 484 489  62 409 444 485\n",
      " 503 772 526 528 826 508 547 541  38 550]\n",
      "15 [ 0  3  4  2  1  6  5 10  7  8 14 11 15  9 12 37 16 27 17 38 18 24 51 23\n",
      " 20 13 29 19 21 30 22 58 25 28 26 40 55]\n",
      "16 ['\"unknown\"' '\"failure\"' '\"other\"' '\"success\"']\n",
      "17 ['\"TypeA\"' '\"TypeB\"']\n"
     ]
    }
   ],
   "source": [
    "for col in data.columns.values:\n",
    "    print(col, data[col].unique())"
   ]
  },
  {
   "cell_type": "code",
   "execution_count": null,
   "metadata": {},
   "outputs": [],
   "source": []
  },
  {
   "cell_type": "code",
   "execution_count": null,
   "metadata": {},
   "outputs": [],
   "source": []
  },
  {
   "cell_type": "markdown",
   "metadata": {},
   "source": [
    "# TODO \n",
    "Look at removing all the \"\" from the values entries\n",
    "\n",
    "## Optional\n",
    "set the columns from a regex apllied to the text file provided by Svetlana, datadescription.txt"
   ]
  },
  {
   "cell_type": "code",
   "execution_count": 119,
   "metadata": {},
   "outputs": [],
   "source": [
    "\n",
    "# with open('data/datadescription.txt', 'r') as myfile:\n",
    "#     filedata=myfile.read().replace('\\n', '')"
   ]
  },
  {
   "cell_type": "code",
   "execution_count": 91,
   "metadata": {},
   "outputs": [],
   "source": [
    "# expression = re.compile(\"((100)|[1-9]\\d? - \\b[^\\d\\W]+\\b)\")\n",
    "# regx = '(100)|[1-9]\\d? - \\b[^\\d\\W]+\\b'\n",
    "\n",
    "\n",
    "# match = re.findall(regx,filedata)\n",
    "# print(match)\n",
    "#     #print(re.search(expression,str(dataFeatures[rows])))"
   ]
  },
  {
   "cell_type": "code",
   "execution_count": 9,
   "metadata": {},
   "outputs": [],
   "source": [
    "data.columns = [\"id\",\"age\",\"job\",\"marital\",\"education\",\"default\",\"balance\",\"housing\",\"loan\",\"contact\",\"day\",\"month\",\"duration\",\"campaign\",\"pdays\",\"previous\",\"poutcome\",\"y\"]"
   ]
  },
  {
   "cell_type": "code",
   "execution_count": null,
   "metadata": {},
   "outputs": [],
   "source": []
  },
  {
   "cell_type": "code",
   "execution_count": 29,
   "metadata": {},
   "outputs": [
    {
     "data": {
      "text/html": [
       "<div>\n",
       "<style scoped>\n",
       "    .dataframe tbody tr th:only-of-type {\n",
       "        vertical-align: middle;\n",
       "    }\n",
       "\n",
       "    .dataframe tbody tr th {\n",
       "        vertical-align: top;\n",
       "    }\n",
       "\n",
       "    .dataframe thead th {\n",
       "        text-align: right;\n",
       "    }\n",
       "</style>\n",
       "<table border=\"1\" class=\"dataframe\">\n",
       "  <thead>\n",
       "    <tr style=\"text-align: right;\">\n",
       "      <th></th>\n",
       "      <th>job</th>\n",
       "      <th>marital</th>\n",
       "      <th>education</th>\n",
       "      <th>default</th>\n",
       "      <th>housing</th>\n",
       "      <th>loan</th>\n",
       "      <th>contact</th>\n",
       "      <th>month</th>\n",
       "      <th>poutcome</th>\n",
       "      <th>y</th>\n",
       "    </tr>\n",
       "  </thead>\n",
       "  <tbody>\n",
       "    <tr>\n",
       "      <th>0</th>\n",
       "      <td>10</td>\n",
       "      <td>2</td>\n",
       "      <td>1</td>\n",
       "      <td>0</td>\n",
       "      <td>1</td>\n",
       "      <td>0</td>\n",
       "      <td>2</td>\n",
       "      <td>8</td>\n",
       "      <td>3</td>\n",
       "      <td>0</td>\n",
       "    </tr>\n",
       "    <tr>\n",
       "      <th>1</th>\n",
       "      <td>5</td>\n",
       "      <td>1</td>\n",
       "      <td>1</td>\n",
       "      <td>0</td>\n",
       "      <td>1</td>\n",
       "      <td>1</td>\n",
       "      <td>2</td>\n",
       "      <td>8</td>\n",
       "      <td>3</td>\n",
       "      <td>0</td>\n",
       "    </tr>\n",
       "    <tr>\n",
       "      <th>2</th>\n",
       "      <td>5</td>\n",
       "      <td>0</td>\n",
       "      <td>2</td>\n",
       "      <td>1</td>\n",
       "      <td>1</td>\n",
       "      <td>0</td>\n",
       "      <td>2</td>\n",
       "      <td>8</td>\n",
       "      <td>3</td>\n",
       "      <td>0</td>\n",
       "    </tr>\n",
       "    <tr>\n",
       "      <th>3</th>\n",
       "      <td>3</td>\n",
       "      <td>1</td>\n",
       "      <td>0</td>\n",
       "      <td>0</td>\n",
       "      <td>1</td>\n",
       "      <td>0</td>\n",
       "      <td>2</td>\n",
       "      <td>8</td>\n",
       "      <td>3</td>\n",
       "      <td>0</td>\n",
       "    </tr>\n",
       "    <tr>\n",
       "      <th>4</th>\n",
       "      <td>10</td>\n",
       "      <td>2</td>\n",
       "      <td>1</td>\n",
       "      <td>0</td>\n",
       "      <td>1</td>\n",
       "      <td>0</td>\n",
       "      <td>2</td>\n",
       "      <td>8</td>\n",
       "      <td>3</td>\n",
       "      <td>0</td>\n",
       "    </tr>\n",
       "  </tbody>\n",
       "</table>\n",
       "</div>"
      ],
      "text/plain": [
       "   job  marital  education  default  housing  loan  contact  month  poutcome  \\\n",
       "0   10        2          1        0        1     0        2      8         3   \n",
       "1    5        1          1        0        1     1        2      8         3   \n",
       "2    5        0          2        1        1     0        2      8         3   \n",
       "3    3        1          0        0        1     0        2      8         3   \n",
       "4   10        2          1        0        1     0        2      8         3   \n",
       "\n",
       "   y  \n",
       "0  0  \n",
       "1  0  \n",
       "2  0  \n",
       "3  0  \n",
       "4  0  "
      ]
     },
     "metadata": {},
     "output_type": "display_data"
    }
   ],
   "source": [
    "def label_encode(df, columns):\n",
    "    for col in columns:\n",
    "        le = LabelEncoder()\n",
    "        col_values_unique = list(df[col].unique())\n",
    "        le_fitted = le.fit(col_values_unique)\n",
    " \n",
    "        col_values = list(df[col].values)\n",
    "        le.classes_\n",
    "        col_values_transformed = le.transform(col_values)\n",
    "        df[col] = col_values_transformed\n",
    " \n",
    "# Encoding a unique label to each catergorical data entry\n",
    "df_categorical_labled = categorical_data.copy(deep=True)\n",
    "to_be_encoded_cols = df_categorical_labled.columns.values\n",
    "label_encode(df_categorical_labled, to_be_encoded_cols)\n",
    "display(df_categorical_labled.head())\n"
   ]
  },
  {
   "cell_type": "code",
   "execution_count": 30,
   "metadata": {},
   "outputs": [
    {
     "data": {
      "text/plain": [
       "<matplotlib.axes._subplots.AxesSubplot at 0x18b9fce7c18>"
      ]
     },
     "execution_count": 30,
     "metadata": {},
     "output_type": "execute_result"
    },
    {
     "data": {
      "image/png": "[encoded data removed]",
      "text/plain": [
       "<Figure size 1440x720 with 2 Axes>"
      ]
     },
     "metadata": {},
     "output_type": "display_data"
    }
   ],
   "source": [
    "# Heatmap of the coeffecients \n",
    "# Shows how dependant each column is on each other \n",
    "# Needs the encoding above to work\n",
    "my_cmap = sn.light_palette(\"Navy\", as_cmap=True)\n",
    "corrMatt = df_categorical_labled.corr()\n",
    "mask = np.array(corrMatt)\n",
    "mask[np.tril_indices_from(mask)] = False\n",
    "fig,ax= plt.subplots()\n",
    "fig.set_size_inches(20,10)\n",
    "sn.heatmap(corrMatt, mask=mask,vmax=.8, square=True,annot=True,cmap=my_cmap)\n"
   ]
  },
  {
   "cell_type": "code",
   "execution_count": 12,
   "metadata": {},
   "outputs": [
    {
     "data": {
      "text/plain": [
       "<matplotlib.axes._subplots.AxesSubplot at 0x18b9fc87eb8>"
      ]
     },
     "execution_count": 12,
     "metadata": {},
     "output_type": "execute_result"
    },
    {
     "data": {
      "image/png": "[encoded data removed]",
      "text/plain": [
       "<Figure size 1440x720 with 2 Axes>"
      ]
     },
     "metadata": {},
     "output_type": "display_data"
    }
   ],
   "source": [
    "# Heatmap of the coeffecients \n",
    "# Shows how dependant each column is on each other \n",
    "# Needs the encoding above to work\n",
    "my_cmap = sn.light_palette(\"Navy\", as_cmap=True)\n",
    "corrMatt = data.corr()\n",
    "mask = np.array(corrMatt)\n",
    "mask[np.tril_indices_from(mask)] = False\n",
    "fig,ax= plt.subplots()\n",
    "fig.set_size_inches(20,10)\n",
    "sn.heatmap(corrMatt, mask=mask,vmax=.8, square=True,annot=True,cmap=my_cmap)\n"
   ]
  },
  {
   "cell_type": "markdown",
   "metadata": {},
   "source": [
    "# Results\n",
    "\n",
    "Further away from 1, the higher the correlation "
   ]
  },
  {
   "cell_type": "code",
   "execution_count": 118,
   "metadata": {},
   "outputs": [],
   "source": [
    "#Here we'll split the data into our training and validation sets\n",
    "#X_train, X_test, y_train, y_test = train_test_split(X, y, test_size=0.3, random_state=42)"
   ]
  },
  {
   "cell_type": "markdown",
   "metadata": {},
   "source": [
    "# Classification\n",
    "She said we can build our classifier from sklearn librayr, they have a load of classifiers compared [here.](http://scikit-learn.org/stable/auto_examples/classification/plot_classifier_comparison.html)\n",
    "\n",
    "Each classifier take various different values, each are outlined in the documentation"
   ]
  },
  {
   "cell_type": "code",
   "execution_count": 39,
   "metadata": {},
   "outputs": [],
   "source": [
    "def get_train_test(df, y_col, x_cols, ratio):\n",
    "    \"\"\" \n",
    "    This method transforms a dataframe into a train and test set, for this you need to specify:\n",
    "    1. the ratio train : test (usually 0.7)\n",
    "    2. the column with the Y_values\n",
    "    \"\"\"\n",
    "    mask = np.random.rand(len(df)) < ratio\n",
    "    df_train = df[mask]\n",
    "    df_test = df[~mask]\n",
    "       \n",
    "    Y_train = df_train[y_col].values\n",
    "    Y_test = df_test[y_col].values\n",
    "    X_train = df_train[x_cols].values\n",
    "    X_test = df_test[x_cols].values\n",
    "    return df_train, df_test, X_train, Y_train, X_test, Y_test"
   ]
  },
  {
   "cell_type": "code",
   "execution_count": 45,
   "metadata": {},
   "outputs": [],
   "source": [
    "dict_classifiers = {\n",
    "    \"Logistic Regression\": LogisticRegression(),\n",
    "    \"Nearest Neighbors\": KNeighborsClassifier(),\n",
    "    \"Linear SVM\": SVC(),\n",
    "#     \"Gradient Boosting Classifier\": GradientBoostingClassifier(n_estimators=1000),\n",
    "    \"Decision Tree\": tree.DecisionTreeClassifier(),\n",
    "#     \"Random Forest\": RandomForestClassifier(n_estimators=1000),\n",
    "#     \"Neural Net\": MLPClassifier(alpha = 1),\n",
    "    \"Naive Bayes\": GaussianNB()\n",
    "}"
   ]
  },
  {
   "cell_type": "code",
   "execution_count": 32,
   "metadata": {},
   "outputs": [],
   "source": [
    "def batch_classify(X_train, Y_train, X_test, Y_test, no_classifiers = 5, verbose = True):\n",
    "    \"\"\"\n",
    "    This method, takes as input the X, Y matrices of the Train and Test set.\n",
    "    And fits them on all of the Classifiers specified in the dict_classifier.\n",
    "    The trained models, and accuracies are saved in a dictionary. The reason to use a dictionary\n",
    "    is because it is very easy to save the whole dictionary with the pickle module.\n",
    "    \n",
    "    Usually, the SVM, Random Forest and Gradient Boosting Classifier take quiet some time to train. \n",
    "    So it is best to train them on a smaller dataset first and \n",
    "    decide whether you want to comment them out or not based on the test accuracy score.\n",
    "    \"\"\"\n",
    "    \n",
    "    dict_models = {}\n",
    "    for classifier_name, classifier in list(dict_classifiers.items())[:no_classifiers]:\n",
    "        t_start = time.clock()\n",
    "        classifier.fit(X_train, Y_train)\n",
    "        t_end = time.clock()\n",
    "        \n",
    "        t_diff = t_end - t_start\n",
    "        train_score = classifier.score(X_train, Y_train)\n",
    "        test_score = classifier.score(X_test, Y_test)\n",
    "        \n",
    "        dict_models[classifier_name] = {'model': classifier, 'train_score': train_score, 'test_score': test_score, 'train_time': t_diff}\n",
    "        if verbose:\n",
    "            print(\"trained {c} in {f:.2f} s\".format(c=classifier_name, f=t_diff))\n",
    "    return dict_models"
   ]
  },
  {
   "cell_type": "code",
   "execution_count": 31,
   "metadata": {},
   "outputs": [],
   "source": [
    "def display_dict_models(dict_models, sort_by='test_score'):\n",
    "    cls = [key for key in dict_models.keys()]\n",
    "    test_s = [dict_models[key]['test_score'] for key in cls]\n",
    "    training_s = [dict_models[key]['train_score'] for key in cls]\n",
    "    training_t = [dict_models[key]['train_time'] for key in cls]\n",
    "    "
   ]
  },
  {
   "cell_type": "code",
   "execution_count": 46,
   "metadata": {},
   "outputs": [
    {
     "name": "stdout",
     "output_type": "stream",
     "text": [
      "trained Logistic Regression in 1.98 s\n",
      "trained Nearest Neighbors in 0.09 s\n",
      "trained Decision Tree in 0.02 s\n",
      "trained Linear SVM in 3.73 s\n",
      "trained Naive Bayes in 0.06 s\n"
     ]
    }
   ],
   "source": [
    "y_col_bank = 'job'\n",
    "x_cols_glass = list(df_categorical_labled.columns.values)\n",
    "train_test_ratio = 0.7\n",
    "df_train, df_test, X_train, Y_train, X_test, Y_test = get_train_test(df_categorical_labled, y_col_bank, x_cols_glass, train_test_ratio)\n",
    "\n",
    "dict_models = batch_classify(X_train, Y_train, X_test, Y_test, no_classifiers = 8)\n",
    "display_dict_models(dict_models)"
   ]
  },
  {
   "cell_type": "code",
   "execution_count": null,
   "metadata": {},
   "outputs": [],
   "source": []
  }
 ],
 "metadata": {
  "kernelspec": {
   "display_name": "Python 3",
   "language": "python",
   "name": "python3"
  },
  "language_info": {
   "codemirror_mode": {
    "name": "ipython",
    "version": 3
   },
   "file_extension": ".py",
   "mimetype": "text/x-python",
   "name": "python",
   "nbconvert_exporter": "python",
   "pygments_lexer": "ipython3",
   "version": "3.5.4"
  }
 },
 "nbformat": 4,
 "nbformat_minor": 2
}
